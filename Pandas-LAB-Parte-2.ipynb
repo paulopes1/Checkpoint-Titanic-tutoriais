{
 "cells": [
  {
   "cell_type": "markdown",
   "id": "628d5ce6-1297-4751-bd44-bec4399a81ee",
   "metadata": {},
   "source": [
    "<img src=\"https://github.com/danielscarvalho/data/blob/master/img/FIAP-logo.png?raw=True\" style=\"float:right;\" width=\"200px\">\n",
    "\n",
    "# DATA SCIENCE & STATISTICAL COMPUTING [》](https://www.fiap.com.br/)\n",
    "\n",
    "## Dataframe & Python\n",
    "\n",
    "### LAP Parte 2: “Cookbook\"\n",
    "\n",
    "https://pandas.pydata.org/docs/user_guide/cookbook.html#cookbook"
   ]
  },
  {
   "cell_type": "markdown",
   "id": "861292ea-6439-49eb-8872-4efc3e252618",
   "metadata": {},
   "source": [
    "Sugestão: Colocar a página do Cookbook lado a lado com este notebook para realizar as operações."
   ]
  },
  {
   "cell_type": "code",
   "execution_count": 2,
   "id": "15691e2b-8f0f-455d-9ad8-216eaa7f1493",
   "metadata": {},
   "outputs": [],
   "source": [
    "import pandas as pd\n",
    "import numpy as np"
   ]
  },
  {
   "cell_type": "code",
   "execution_count": null,
   "id": "6512d58a-1461-490c-826e-c19d7b869b31",
   "metadata": {},
   "outputs": [],
   "source": []
  }
 ],
 "metadata": {
  "kernelspec": {
   "display_name": "Python 3 (ipykernel)",
   "language": "python",
   "name": "python3"
  },
  "language_info": {
   "codemirror_mode": {
    "name": "ipython",
    "version": 3
   },
   "file_extension": ".py",
   "mimetype": "text/x-python",
   "name": "python",
   "nbconvert_exporter": "python",
   "pygments_lexer": "ipython3",
   "version": "3.11.5"
  }
 },
 "nbformat": 4,
 "nbformat_minor": 5
}
